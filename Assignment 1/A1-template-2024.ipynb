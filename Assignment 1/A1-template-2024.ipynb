{
 "cells": [
  {
   "cell_type": "markdown",
   "metadata": {},
   "source": [
    "# Using Machine Learning Tools: Assignment 1\n",
    "\n",
    "## Overview\n",
    "\n",
    "In this assignment, you will apply some popular machine learning techniques to the problem of predicting bike rental demand. A data set has been provided containing records of bike rentals in Seoul, collected during 2017-18.\n",
    "\n",
    "The scenario for this assignment is that you are a new employee of a company (that rents bikes, alongside other activities) and you have been assigned the task of predicting the bike rentals. Your line manager has given you some instructions (those shown below) but is expecting you to be able to do this task without close supervision and to report back with understandable and concise text, graphics and code (and of course the company wants a copy of all the code required to perform this task). Naturally, you are wanting to show that you are a valuable member of the company and although the company allows the use of ChatGPT, you will want to show that you are making useful contributions and that you bring value to the company beyond just being able to type instructions into ChatGPT, as otherwise the company might replace you with a cheaper data entry employee. Hence, you should use ChatGPT whenever you like (or whenever instructed to - see later) but do highlight how your own knowledge and judgement makes a contribution.\n",
    "\n",
    "The main aims of this assignment are: \n",
    "\n",
    "- to practice using tools for loading and viewing data sets;\n",
    "- to check data for common pitfalls and clean it up;\n",
    "- to plan a simple experiment and prepare the data accordingly;\n",
    "- to run your experiment and to report and interpret your results clearly and concisely.\n",
    "\n",
    "This assignment relates to the following ACS CBOK areas: abstraction, design, hardware and software, data and information, HCI and programming.\n",
    "\n",
    "## General instructions\n",
    "\n",
    "This assignment is divided into several tasks. Use the spaces provided in this notebook to answer the questions posed in each task. Some questions require writing code, some require graphical results, and some require short comments or analysis as text. It is your responsibility to make sure your responses are clearly labelled and your code has been fully executed (with the correct results displayed) before submission!\n",
    "\n",
    "**Do not** manually edit the data set file we have provided! For marking purposes, it's important that your code is written to be able to be run correctly on the original data file.\n",
    "\n",
    "When creating graphical output, label is clearly, with appropriate titles, xlabels and ylabels, as appropriate.\n",
    "\n",
    "Most of the tasks in this assignment only require writing a few lines of code! One goal of the assignment is explore [sklearn](https://scikit-learn.org/stable/index.html), [pandas](https://pandas.pydata.org/pandas-docs/stable/index.html), [matplotlib](https://matplotlib.org/stable/index.html) and other libraries you will find useful throughout the course, so feel free to use the functions they provide. You are expected to search and carefully read the documentation for functions that you use, to ensure you are using them correctly.\n",
    "\n",
    "Chapter 2 of the reference book is based on a similar workflow to this prac, so you may look there for some further background and ideas. You can also use any other general resources on the internet that are relevant, including ChatGPT, although do not use someone else's code or answers that directly relate to these questions. If you take a large portion of code or text from the internet or ChatGPT then you should reference where this was taken from, but we do not expect any references for small pieces of code, such as from documentation, blogs or tutorials. Taking, and adapting, small portions of code is expected and is common practice when solving real problems.\n",
    "\n",
    "The following code imports some of the essential libraries that you will need. You should not need to modify it, but you are expected to import other libraries as needed.\n"
   ]
  },
  {
   "cell_type": "code",
   "metadata": {
    "ExecuteTime": {
     "end_time": "2024-06-22T17:22:21.245303Z",
     "start_time": "2024-06-22T17:22:21.240266Z"
    }
   },
   "source": [
    "# Python ≥3.5 is required\n",
    "import sys\n",
    "assert sys.version_info >= (3, 5)\n",
    "\n",
    "import sklearn\n",
    "assert sklearn.__version__ >= \"0.20\"\n",
    "\n",
    "import pandas as pd\n",
    "assert pd.__version__ >= \"1.0\"\n",
    "\n",
    "# Common imports\n",
    "import numpy as np\n",
    "import os\n",
    "\n",
    "# To plot pretty figures\n",
    "%matplotlib inline\n",
    "import matplotlib as mpl\n",
    "import matplotlib.pyplot as plt\n",
    "import seaborn as sns\n",
    "mpl.rc('axes', labelsize=14)\n",
    "mpl.rc('xtick', labelsize=12)\n",
    "mpl.rc('ytick', labelsize=12)"
   ],
   "outputs": [],
   "execution_count": 66
  },
  {
   "cell_type": "code",
   "metadata": {
    "ExecuteTime": {
     "end_time": "2024-06-22T07:56:29.270595Z",
     "start_time": "2024-06-22T07:56:29.265879Z"
    }
   },
   "source": [
    "# set seed\n",
    "np.random.seed(42)"
   ],
   "outputs": [],
   "execution_count": 2
  },
  {
   "cell_type": "markdown",
   "metadata": {},
   "source": [
    "## Step 1: Loading and initial processing of the dataset (40%)\n",
    "\n",
    "Download the data set `SeoulBikeData.csv` **from MyUni** using the link provided on the assignment page. \n",
    "\n",
    "The data is stored in a CSV (comma separated values) file and contains the following information \n",
    "\n",
    " - Date: year-month-day\n",
    " - Rented Bike Count: Count of bikes rented at each hour\n",
    " - Hour: Hour of the day\n",
    " - Temperature: Temperature in degrees Celsius\n",
    " - Humidity: %\n",
    " - Windspeed: m/s\n",
    " - Visibility: 10m\n",
    " - Dew point temperature: degrees Celsius\n",
    " - Solar radiation: MJ/m2\n",
    " - Rainfall: mm\n",
    " - Snowfall: cm\n",
    " - Seasons: Winter, Spring, Summer, Autumn\n",
    " - Holiday: Holiday/No holiday\n",
    " - Functional Day: NoFunc(Non Functional Hours), Fun(Functional hours)\n",
    "\n",
    "### 1.1 Load and visualise the data\n",
    "\n",
    "**Load the data set from the csv file into a DataFrame, summarise it in text using one pandas function, and then visualise each feature with one type of plot (this can be different for each feature).**"
   ]
  },
  {
   "cell_type": "markdown",
   "metadata": {},
   "source": "#### 1.1.1 Loading in the data"
  },
  {
   "cell_type": "code",
   "metadata": {
    "ExecuteTime": {
     "end_time": "2024-06-22T07:56:29.365781Z",
     "start_time": "2024-06-22T07:56:29.272685Z"
    }
   },
   "source": [
    "### Your code here\n",
    "# Load the data set from the csv file into a DataFrame\n",
    "df = pd.read_csv('./SeoulBikeData.csv')"
   ],
   "outputs": [],
   "execution_count": 3
  },
  {
   "cell_type": "code",
   "metadata": {
    "ExecuteTime": {
     "end_time": "2024-06-22T07:56:29.399099Z",
     "start_time": "2024-06-22T07:56:29.369562Z"
    }
   },
   "source": [
    "# inspect data-types and check for missing data in the data frame\n",
    "df.info()"
   ],
   "outputs": [
    {
     "name": "stdout",
     "output_type": "stream",
     "text": [
      "<class 'pandas.core.frame.DataFrame'>\n",
      "RangeIndex: 8760 entries, 0 to 8759\n",
      "Data columns (total 14 columns):\n",
      " #   Column                     Non-Null Count  Dtype  \n",
      "---  ------                     --------------  -----  \n",
      " 0   Date                       8760 non-null   object \n",
      " 1   Rented Bike Count          8760 non-null   int64  \n",
      " 2   Hour                       8760 non-null   int64  \n",
      " 3   Temperature (C)            8760 non-null   float64\n",
      " 4   Humidity (%)               8760 non-null   float64\n",
      " 5   Wind speed (m/s)           8760 non-null   float64\n",
      " 6   Visibility (10m)           8760 non-null   int64  \n",
      " 7   Dew point temperature (C)  8760 non-null   float64\n",
      " 8   Solar Radiation (MJ/m2)    8760 non-null   object \n",
      " 9   Rainfall(mm)               8760 non-null   object \n",
      " 10  Snowfall (cm)              8760 non-null   object \n",
      " 11  Seasons                    8760 non-null   object \n",
      " 12  Holiday                    8760 non-null   object \n",
      " 13  Functioning Day            8760 non-null   object \n",
      "dtypes: float64(4), int64(3), object(7)\n",
      "memory usage: 958.3+ KB\n"
     ]
    }
   ],
   "execution_count": 4
  },
  {
   "cell_type": "code",
   "metadata": {
    "ExecuteTime": {
     "end_time": "2024-06-22T07:56:29.490336Z",
     "start_time": "2024-06-22T07:56:29.401405Z"
    }
   },
   "source": [
    "# high-level summary of features\n",
    "df.describe()"
   ],
   "outputs": [
    {
     "data": {
      "text/plain": [
       "       Rented Bike Count         Hour  Temperature (C)  Humidity (%)  \\\n",
       "count        8760.000000  8760.000000      8760.000000   8760.000000   \n",
       "mean          714.876027    11.500000        12.945765     58.268014   \n",
       "std          1160.468927     6.922582        12.376168     20.807845   \n",
       "min             0.000000     0.000000       -17.800000     -2.200000   \n",
       "25%           191.000000     5.750000         3.500000     42.000000   \n",
       "50%           504.500000    11.500000        13.700000     57.000000   \n",
       "75%          1066.000000    17.250000        22.500000     74.000000   \n",
       "max         90997.000000    23.000000       195.000000    455.000000   \n",
       "\n",
       "       Wind speed (m/s)  Visibility (10m)  Dew point temperature (C)  \n",
       "count       8760.000000       8760.000000                8760.000000  \n",
       "mean           1.848950       1436.825799                   4.073813  \n",
       "std           10.665215        608.298712                  13.060369  \n",
       "min           -0.700000         27.000000                 -30.600000  \n",
       "25%            0.900000        940.000000                  -4.700000  \n",
       "50%            1.500000       1698.000000                   5.100000  \n",
       "75%            2.300000       2000.000000                  14.800000  \n",
       "max          991.100000       2000.000000                  27.200000  "
      ],
      "text/html": [
       "<div>\n",
       "<style scoped>\n",
       "    .dataframe tbody tr th:only-of-type {\n",
       "        vertical-align: middle;\n",
       "    }\n",
       "\n",
       "    .dataframe tbody tr th {\n",
       "        vertical-align: top;\n",
       "    }\n",
       "\n",
       "    .dataframe thead th {\n",
       "        text-align: right;\n",
       "    }\n",
       "</style>\n",
       "<table border=\"1\" class=\"dataframe\">\n",
       "  <thead>\n",
       "    <tr style=\"text-align: right;\">\n",
       "      <th></th>\n",
       "      <th>Rented Bike Count</th>\n",
       "      <th>Hour</th>\n",
       "      <th>Temperature (C)</th>\n",
       "      <th>Humidity (%)</th>\n",
       "      <th>Wind speed (m/s)</th>\n",
       "      <th>Visibility (10m)</th>\n",
       "      <th>Dew point temperature (C)</th>\n",
       "    </tr>\n",
       "  </thead>\n",
       "  <tbody>\n",
       "    <tr>\n",
       "      <th>count</th>\n",
       "      <td>8760.000000</td>\n",
       "      <td>8760.000000</td>\n",
       "      <td>8760.000000</td>\n",
       "      <td>8760.000000</td>\n",
       "      <td>8760.000000</td>\n",
       "      <td>8760.000000</td>\n",
       "      <td>8760.000000</td>\n",
       "    </tr>\n",
       "    <tr>\n",
       "      <th>mean</th>\n",
       "      <td>714.876027</td>\n",
       "      <td>11.500000</td>\n",
       "      <td>12.945765</td>\n",
       "      <td>58.268014</td>\n",
       "      <td>1.848950</td>\n",
       "      <td>1436.825799</td>\n",
       "      <td>4.073813</td>\n",
       "    </tr>\n",
       "    <tr>\n",
       "      <th>std</th>\n",
       "      <td>1160.468927</td>\n",
       "      <td>6.922582</td>\n",
       "      <td>12.376168</td>\n",
       "      <td>20.807845</td>\n",
       "      <td>10.665215</td>\n",
       "      <td>608.298712</td>\n",
       "      <td>13.060369</td>\n",
       "    </tr>\n",
       "    <tr>\n",
       "      <th>min</th>\n",
       "      <td>0.000000</td>\n",
       "      <td>0.000000</td>\n",
       "      <td>-17.800000</td>\n",
       "      <td>-2.200000</td>\n",
       "      <td>-0.700000</td>\n",
       "      <td>27.000000</td>\n",
       "      <td>-30.600000</td>\n",
       "    </tr>\n",
       "    <tr>\n",
       "      <th>25%</th>\n",
       "      <td>191.000000</td>\n",
       "      <td>5.750000</td>\n",
       "      <td>3.500000</td>\n",
       "      <td>42.000000</td>\n",
       "      <td>0.900000</td>\n",
       "      <td>940.000000</td>\n",
       "      <td>-4.700000</td>\n",
       "    </tr>\n",
       "    <tr>\n",
       "      <th>50%</th>\n",
       "      <td>504.500000</td>\n",
       "      <td>11.500000</td>\n",
       "      <td>13.700000</td>\n",
       "      <td>57.000000</td>\n",
       "      <td>1.500000</td>\n",
       "      <td>1698.000000</td>\n",
       "      <td>5.100000</td>\n",
       "    </tr>\n",
       "    <tr>\n",
       "      <th>75%</th>\n",
       "      <td>1066.000000</td>\n",
       "      <td>17.250000</td>\n",
       "      <td>22.500000</td>\n",
       "      <td>74.000000</td>\n",
       "      <td>2.300000</td>\n",
       "      <td>2000.000000</td>\n",
       "      <td>14.800000</td>\n",
       "    </tr>\n",
       "    <tr>\n",
       "      <th>max</th>\n",
       "      <td>90997.000000</td>\n",
       "      <td>23.000000</td>\n",
       "      <td>195.000000</td>\n",
       "      <td>455.000000</td>\n",
       "      <td>991.100000</td>\n",
       "      <td>2000.000000</td>\n",
       "      <td>27.200000</td>\n",
       "    </tr>\n",
       "  </tbody>\n",
       "</table>\n",
       "</div>"
      ]
     },
     "execution_count": 5,
     "metadata": {},
     "output_type": "execute_result"
    }
   ],
   "execution_count": 5
  },
  {
   "cell_type": "markdown",
   "metadata": {},
   "source": [
    "However, we notice that not all columns are featured in describe since describe defaults to the continuous values (numerical). We can inspect the rest by seperating the categorical and numerical features"
   ]
  },
  {
   "cell_type": "code",
   "metadata": {
    "ExecuteTime": {
     "end_time": "2024-06-22T07:56:29.520714Z",
     "start_time": "2024-06-22T07:56:29.492635Z"
    }
   },
   "source": [
    "# categorical features \n",
    "# we assume features not included in the describe table above is categorical\n",
    "# notice how it matches with the features with the object data type\n",
    "cat_features = set(df.columns).difference(set(df.describe().columns))\n",
    "print(cat_features)"
   ],
   "outputs": [
    {
     "name": "stdout",
     "output_type": "stream",
     "text": [
      "{'Holiday', 'Solar Radiation (MJ/m2)', 'Date', 'Snowfall (cm)', 'Rainfall(mm)', 'Seasons', 'Functioning Day'}\n"
     ]
    }
   ],
   "execution_count": 6
  },
  {
   "cell_type": "code",
   "metadata": {
    "ExecuteTime": {
     "end_time": "2024-06-22T07:56:29.580027Z",
     "start_time": "2024-06-22T07:56:29.523222Z"
    }
   },
   "source": [
    "df[list(cat_features)].describe()"
   ],
   "outputs": [
    {
     "data": {
      "text/plain": [
       "           Holiday Solar Radiation (MJ/m2)        Date Snowfall (cm)  \\\n",
       "count         8760                    8760        8760          8760   \n",
       "unique           2                     347         365            54   \n",
       "top     No Holiday                       0  01/12/2017             0   \n",
       "freq          8328                    4300          24          8295   \n",
       "\n",
       "       Rainfall(mm) Seasons Functioning Day  \n",
       "count          8760    8760            8760  \n",
       "unique           62       4               2  \n",
       "top               0  Spring             Yes  \n",
       "freq           8211    2208            8465  "
      ],
      "text/html": [
       "<div>\n",
       "<style scoped>\n",
       "    .dataframe tbody tr th:only-of-type {\n",
       "        vertical-align: middle;\n",
       "    }\n",
       "\n",
       "    .dataframe tbody tr th {\n",
       "        vertical-align: top;\n",
       "    }\n",
       "\n",
       "    .dataframe thead th {\n",
       "        text-align: right;\n",
       "    }\n",
       "</style>\n",
       "<table border=\"1\" class=\"dataframe\">\n",
       "  <thead>\n",
       "    <tr style=\"text-align: right;\">\n",
       "      <th></th>\n",
       "      <th>Holiday</th>\n",
       "      <th>Solar Radiation (MJ/m2)</th>\n",
       "      <th>Date</th>\n",
       "      <th>Snowfall (cm)</th>\n",
       "      <th>Rainfall(mm)</th>\n",
       "      <th>Seasons</th>\n",
       "      <th>Functioning Day</th>\n",
       "    </tr>\n",
       "  </thead>\n",
       "  <tbody>\n",
       "    <tr>\n",
       "      <th>count</th>\n",
       "      <td>8760</td>\n",
       "      <td>8760</td>\n",
       "      <td>8760</td>\n",
       "      <td>8760</td>\n",
       "      <td>8760</td>\n",
       "      <td>8760</td>\n",
       "      <td>8760</td>\n",
       "    </tr>\n",
       "    <tr>\n",
       "      <th>unique</th>\n",
       "      <td>2</td>\n",
       "      <td>347</td>\n",
       "      <td>365</td>\n",
       "      <td>54</td>\n",
       "      <td>62</td>\n",
       "      <td>4</td>\n",
       "      <td>2</td>\n",
       "    </tr>\n",
       "    <tr>\n",
       "      <th>top</th>\n",
       "      <td>No Holiday</td>\n",
       "      <td>0</td>\n",
       "      <td>01/12/2017</td>\n",
       "      <td>0</td>\n",
       "      <td>0</td>\n",
       "      <td>Spring</td>\n",
       "      <td>Yes</td>\n",
       "    </tr>\n",
       "    <tr>\n",
       "      <th>freq</th>\n",
       "      <td>8328</td>\n",
       "      <td>4300</td>\n",
       "      <td>24</td>\n",
       "      <td>8295</td>\n",
       "      <td>8211</td>\n",
       "      <td>2208</td>\n",
       "      <td>8465</td>\n",
       "    </tr>\n",
       "  </tbody>\n",
       "</table>\n",
       "</div>"
      ]
     },
     "execution_count": 7,
     "metadata": {},
     "output_type": "execute_result"
    }
   ],
   "execution_count": 7
  },
  {
   "cell_type": "markdown",
   "metadata": {},
   "source": "However, it can be observed that Solar Radiation, Rainfall and Snowfall, which are implied to be numerical features given their measurements are listed in categorical features. We inspect the values to see why this is the reason."
  },
  {
   "cell_type": "code",
   "metadata": {
    "ExecuteTime": {
     "end_time": "2024-06-22T07:56:29.635621Z",
     "start_time": "2024-06-22T07:56:29.582080Z"
    }
   },
   "source": [
    "solar_col = df[\"Solar Radiation (MJ/m2)\"]\n",
    "# check if there exists data that is not numerical or decimal:\n",
    "# which might explain why the data type is parsed as categorical\n",
    "solar_col[~(solar_col.apply(lambda x: x.replace('.','')).apply(str.isdigit))]"
   ],
   "outputs": [
    {
     "data": {
      "text/plain": [
       "4070    w.39\n",
       "Name: Solar Radiation (MJ/m2), dtype: object"
      ]
     },
     "execution_count": 8,
     "metadata": {},
     "output_type": "execute_result"
    }
   ],
   "execution_count": 8
  },
  {
   "cell_type": "markdown",
   "metadata": {},
   "source": [
    "We can observe that these numerical columns have some dirty data that is non-numerical which is the reason why pandas does not recognize them as numerical features."
   ]
  },
  {
   "cell_type": "markdown",
   "metadata": {},
   "source": "#### 1.1.2 Visualizing the data without cleaning"
  },
  {
   "cell_type": "markdown",
   "metadata": {},
   "source": "Show the distribution of each numerical feature using a box plot:"
  },
  {
   "cell_type": "code",
   "metadata": {
    "ExecuteTime": {
     "end_time": "2024-06-22T07:56:31.098355Z",
     "start_time": "2024-06-22T07:56:29.637742Z"
    }
   },
   "source": [
    "num_features = set(df.columns).difference(cat_features)\n",
    "\n",
    "for feature in list(num_features):\n",
    "    df[feature].plot(kind = 'box')\n",
    "    plt.title(f\"Boxplot of {feature}\")\n",
    "    plt.xlabel(feature)\n",
    "    plt.xticks([1], labels = \"\")\n",
    "    plt.show()"
   ],
   "outputs": [
    {
     "data": {
      "text/plain": [
       "<Figure size 640x480 with 1 Axes>"
      ],
      "image/png": "[encoded data removed]"
     },
     "metadata": {},
     "output_type": "display_data"
    },
    {
     "data": {
      "text/plain": [
       "<Figure size 640x480 with 1 Axes>"
      ],
      "image/png": "[encoded data removed]"
     },
     "metadata": {},
     "output_type": "display_data"
    },
    {
     "data": {
      "text/plain": [
       "<Figure size 640x480 with 1 Axes>"
      ],
      "image/png": "[encoded data removed]"
     },
     "metadata": {},
     "output_type": "display_data"
    },
    {
     "data": {
      "text/plain": [
       "<Figure size 640x480 with 1 Axes>"
      ],
      "image/png": "[encoded data removed]"
     },
     "metadata": {},
     "output_type": "display_data"
    },
    {
     "data": {
      "text/plain": [
       "<Figure size 640x480 with 1 Axes>"
      ],
      "image/png": "[encoded data removed]"
     },
     "metadata": {},
     "output_type": "display_data"
    },
    {
     "data": {
      "text/plain": [
       "<Figure size 640x480 with 1 Axes>"
      ],
      "image/png": "[encoded data removed]"
     },
     "metadata": {},
     "output_type": "display_data"
    },
    {
     "data": {
      "text/plain": [
       "<Figure size 640x480 with 1 Axes>"
      ],
      "image/png": "[encoded data removed]"
     },
     "metadata": {},
     "output_type": "display_data"
    }
   ],
   "execution_count": 9
  },
  {
   "cell_type": "markdown",
   "metadata": {},
   "source": [
    "Show the distribution of each categorical feature using a bar plot*: \n",
    "\n",
    "\n",
    "*For this we do not consider Date, Solar Radiation, Rainfall and Snowfall as categorical features but as numerical features"
   ]
  },
  {
   "cell_type": "code",
   "metadata": {
    "ExecuteTime": {
     "end_time": "2024-06-22T07:56:31.602488Z",
     "start_time": "2024-06-22T07:56:31.101799Z"
    }
   },
   "source": [
    "for feature in cat_features:\n",
    "    if 'Solar Radiation' in feature or 'Rainfall' in feature or 'Snowfall' in feature or 'Date' in feature:\n",
    "        continue\n",
    "    counts = df[feature].value_counts()\n",
    "    plt.barh(counts.index, counts.values)\n",
    "    plt.title(f\"Distribution of {feature}\")\n",
    "    plt.show()"
   ],
   "outputs": [
    {
     "data": {
      "text/plain": [
       "<Figure size 640x480 with 1 Axes>"
      ],
      "image/png": "[encoded data removed]"
     },
     "metadata": {},
     "output_type": "display_data"
    },
    {
     "data": {
      "text/plain": [
       "<Figure size 640x480 with 1 Axes>"
      ],
      "image/png": "[encoded data removed]"
     },
     "metadata": {},
     "output_type": "display_data"
    },
    {
     "data": {
      "text/plain": [
       "<Figure size 640x480 with 1 Axes>"
      ],
      "image/png": "[encoded data removed]"
     },
     "metadata": {},
     "output_type": "display_data"
    }
   ],
   "execution_count": 10
  },
  {
   "metadata": {},
   "cell_type": "markdown",
   "source": "As a caveat, we will then inpsect the data for outliers first and visualize the data again after cleaning and outlier analysis."
  },
  {
   "cell_type": "markdown",
   "metadata": {},
   "source": [
    "### 1.2 Cleaning the data\n",
    "\n",
    "Do the following to the data:\n",
    " - Using the \"Functioning day\" feature, **remove rows from the DataFrame** where the business is closed and then **delete the Functioning Day feature from the DataFrame**.\n",
    " - **Convert seasons to a one hot encoded format** (1 binary feature for each of the 4 seasons).\n",
    " - Replace the **Date** feature with a binary **Weekday** feature (1 for a weekday and 0 for weekend) using the code sample below or your own code.\n",
    " - **Convert remaining non-numerical features to a numerical format** or replace with NaN (i.e. `np.nan`) where not possible.\n",
    " - **Identify and fix any outliers and errors in the data**.\n",
    "\n",
    "Save the result as a new csv file called `CleanedSeoulBikeData.csv` and **upload this** to MyUni along with this notebook when you submit your assignment."
   ]
  },
  {
   "cell_type": "code",
   "metadata": {
    "ExecuteTime": {
     "end_time": "2024-06-22T07:56:31.609295Z",
     "start_time": "2024-06-22T07:56:31.604324Z"
    }
   },
   "source": [
    "## Example code for weekday feature mapping ##\n",
    "# boilerplate to encode date to weekday\n",
    "import datetime\n",
    "def date_is_weekday(datestring):\n",
    "    ### return 0 if weekend, 1 if weekday\n",
    "    try: \n",
    "        dsplit = datestring.split('/')\n",
    "        wday = datetime.datetime(int(dsplit[2]),int(dsplit[1]),int(dsplit[0])).weekday()\n",
    "        return int(wday<=4)\n",
    "    except:\n",
    "        return np.nan"
   ],
   "outputs": [],
   "execution_count": 11
  },
  {
   "metadata": {},
   "cell_type": "markdown",
   "source": "#### 1.2.1 Removing days where business is closed (Functioning Day)"
  },
  {
   "cell_type": "code",
   "metadata": {
    "ExecuteTime": {
     "end_time": "2024-06-22T07:56:31.673956Z",
     "start_time": "2024-06-22T07:56:31.611507Z"
    }
   },
   "source": [
    "### Your code here (and remember to upload the resulting csv)\n",
    "# Remove rows from the DataFame where the business is closed and then delete the Functioning Day feature \n",
    "df = df[df['Functioning Day'] == 'Yes']\n",
    "df = df.drop('Functioning Day', axis = 1)\n",
    "df.head(3)"
   ],
   "outputs": [
    {
     "data": {
      "text/plain": [
       "         Date  Rented Bike Count  Hour  Temperature (C)  Humidity (%)  \\\n",
       "0  01/12/2017                254     0             -5.2          37.0   \n",
       "1  01/12/2017                204     1             -5.5          38.0   \n",
       "2  01/12/2017                173     2             -6.0          39.0   \n",
       "\n",
       "   Wind speed (m/s)  Visibility (10m)  Dew point temperature (C)  \\\n",
       "0               2.2              2000                      -17.6   \n",
       "1               0.8              2000                      -17.6   \n",
       "2               1.0              2000                      -17.7   \n",
       "\n",
       "  Solar Radiation (MJ/m2) Rainfall(mm) Snowfall (cm) Seasons     Holiday  \n",
       "0                       0            0             0  Winter  No Holiday  \n",
       "1                       0            0             0  Winter  No Holiday  \n",
       "2                       0            0             0  Winter  No Holiday  "
      ],
      "text/html": [
       "<div>\n",
       "<style scoped>\n",
       "    .dataframe tbody tr th:only-of-type {\n",
       "        vertical-align: middle;\n",
       "    }\n",
       "\n",
       "    .dataframe tbody tr th {\n",
       "        vertical-align: top;\n",
       "    }\n",
       "\n",
       "    .dataframe thead th {\n",
       "        text-align: right;\n",
       "    }\n",
       "</style>\n",
       "<table border=\"1\" class=\"dataframe\">\n",
       "  <thead>\n",
       "    <tr style=\"text-align: right;\">\n",
       "      <th></th>\n",
       "      <th>Date</th>\n",
       "      <th>Rented Bike Count</th>\n",
       "      <th>Hour</th>\n",
       "      <th>Temperature (C)</th>\n",
       "      <th>Humidity (%)</th>\n",
       "      <th>Wind speed (m/s)</th>\n",
       "      <th>Visibility (10m)</th>\n",
       "      <th>Dew point temperature (C)</th>\n",
       "      <th>Solar Radiation (MJ/m2)</th>\n",
       "      <th>Rainfall(mm)</th>\n",
       "      <th>Snowfall (cm)</th>\n",
       "      <th>Seasons</th>\n",
       "      <th>Holiday</th>\n",
       "    </tr>\n",
       "  </thead>\n",
       "  <tbody>\n",
       "    <tr>\n",
       "      <th>0</th>\n",
       "      <td>01/12/2017</td>\n",
       "      <td>254</td>\n",
       "      <td>0</td>\n",
       "      <td>-5.2</td>\n",
       "      <td>37.0</td>\n",
       "      <td>2.2</td>\n",
       "      <td>2000</td>\n",
       "      <td>-17.6</td>\n",
       "      <td>0</td>\n",
       "      <td>0</td>\n",
       "      <td>0</td>\n",
       "      <td>Winter</td>\n",
       "      <td>No Holiday</td>\n",
       "    </tr>\n",
       "    <tr>\n",
       "      <th>1</th>\n",
       "      <td>01/12/2017</td>\n",
       "      <td>204</td>\n",
       "      <td>1</td>\n",
       "      <td>-5.5</td>\n",
       "      <td>38.0</td>\n",
       "      <td>0.8</td>\n",
       "      <td>2000</td>\n",
       "      <td>-17.6</td>\n",
       "      <td>0</td>\n",
       "      <td>0</td>\n",
       "      <td>0</td>\n",
       "      <td>Winter</td>\n",
       "      <td>No Holiday</td>\n",
       "    </tr>\n",
       "    <tr>\n",
       "      <th>2</th>\n",
       "      <td>01/12/2017</td>\n",
       "      <td>173</td>\n",
       "      <td>2</td>\n",
       "      <td>-6.0</td>\n",
       "      <td>39.0</td>\n",
       "      <td>1.0</td>\n",
       "      <td>2000</td>\n",
       "      <td>-17.7</td>\n",
       "      <td>0</td>\n",
       "      <td>0</td>\n",
       "      <td>0</td>\n",
       "      <td>Winter</td>\n",
       "      <td>No Holiday</td>\n",
       "    </tr>\n",
       "  </tbody>\n",
       "</table>\n",
       "</div>"
      ]
     },
     "execution_count": 12,
     "metadata": {},
     "output_type": "execute_result"
    }
   ],
   "execution_count": 12
  },
  {
   "metadata": {},
   "cell_type": "markdown",
   "source": "#### 1.2.2 Convert Seasons to OHE format"
  },
  {
   "cell_type": "code",
   "metadata": {
    "ExecuteTime": {
     "end_time": "2024-06-22T07:56:31.711212Z",
     "start_time": "2024-06-22T07:56:31.675984Z"
    }
   },
   "source": "df['Seasons'].value_counts()",
   "outputs": [
    {
     "data": {
      "text/plain": [
       "Seasons\n",
       "Summer    2208\n",
       "Winter    2160\n",
       "Spring    2160\n",
       "Autumn    1937\n",
       "Name: count, dtype: int64"
      ]
     },
     "execution_count": 13,
     "metadata": {},
     "output_type": "execute_result"
    }
   ],
   "execution_count": 13
  },
  {
   "cell_type": "code",
   "metadata": {
    "ExecuteTime": {
     "end_time": "2024-06-22T07:56:31.855352Z",
     "start_time": "2024-06-22T07:56:31.712977Z"
    }
   },
   "source": [
    "# Convert Seasons into OHE format\n",
    "from sklearn.preprocessing import OneHotEncoder\n",
    "\n",
    "ohe = OneHotEncoder()\n",
    "seasons_ohe = ohe.fit_transform(df['Seasons'].values.reshape(-1,1))\n",
    "seasons_df = pd.DataFrame(seasons_ohe.toarray(), columns=ohe.get_feature_names_out(), dtype=int)\n",
    "df = df.reset_index()\n",
    "seasons_df = seasons_df.reset_index()\n",
    "df = pd.concat([df, seasons_df], axis = 1)\n",
    "df = df.drop(['Seasons', 'index'], axis=1)\n",
    "df.head()"
   ],
   "outputs": [
    {
     "data": {
      "text/plain": [
       "         Date  Rented Bike Count  Hour  Temperature (C)  Humidity (%)  \\\n",
       "0  01/12/2017                254     0             -5.2          37.0   \n",
       "1  01/12/2017                204     1             -5.5          38.0   \n",
       "2  01/12/2017                173     2             -6.0          39.0   \n",
       "3  01/12/2017                107     3             -6.2          40.0   \n",
       "4  01/12/2017                 78     4             -6.0          36.0   \n",
       "\n",
       "   Wind speed (m/s)  Visibility (10m)  Dew point temperature (C)  \\\n",
       "0               2.2              2000                      -17.6   \n",
       "1               0.8              2000                      -17.6   \n",
       "2               1.0              2000                      -17.7   \n",
       "3               0.9              2000                      -17.6   \n",
       "4               2.3              2000                      -18.6   \n",
       "\n",
       "  Solar Radiation (MJ/m2) Rainfall(mm) Snowfall (cm)     Holiday  x0_Autumn  \\\n",
       "0                       0            0             0  No Holiday          0   \n",
       "1                       0            0             0  No Holiday          0   \n",
       "2                       0            0             0  No Holiday          0   \n",
       "3                       0            0             0  No Holiday          0   \n",
       "4                       0            0             0  No Holiday          0   \n",
       "\n",
       "   x0_Spring  x0_Summer  x0_Winter  \n",
       "0          0          0          1  \n",
       "1          0          0          1  \n",
       "2          0          0          1  \n",
       "3          0          0          1  \n",
       "4          0          0          1  "
      ],
      "text/html": [
       "<div>\n",
       "<style scoped>\n",
       "    .dataframe tbody tr th:only-of-type {\n",
       "        vertical-align: middle;\n",
       "    }\n",
       "\n",
       "    .dataframe tbody tr th {\n",
       "        vertical-align: top;\n",
       "    }\n",
       "\n",
       "    .dataframe thead th {\n",
       "        text-align: right;\n",
       "    }\n",
       "</style>\n",
       "<table border=\"1\" class=\"dataframe\">\n",
       "  <thead>\n",
       "    <tr style=\"text-align: right;\">\n",
       "      <th></th>\n",
       "      <th>Date</th>\n",
       "      <th>Rented Bike Count</th>\n",
       "      <th>Hour</th>\n",
       "      <th>Temperature (C)</th>\n",
       "      <th>Humidity (%)</th>\n",
       "      <th>Wind speed (m/s)</th>\n",
       "      <th>Visibility (10m)</th>\n",
       "      <th>Dew point temperature (C)</th>\n",
       "      <th>Solar Radiation (MJ/m2)</th>\n",
       "      <th>Rainfall(mm)</th>\n",
       "      <th>Snowfall (cm)</th>\n",
       "      <th>Holiday</th>\n",
       "      <th>x0_Autumn</th>\n",
       "      <th>x0_Spring</th>\n",
       "      <th>x0_Summer</th>\n",
       "      <th>x0_Winter</th>\n",
       "    </tr>\n",
       "  </thead>\n",
       "  <tbody>\n",
       "    <tr>\n",
       "      <th>0</th>\n",
       "      <td>01/12/2017</td>\n",
       "      <td>254</td>\n",
       "      <td>0</td>\n",
       "      <td>-5.2</td>\n",
       "      <td>37.0</td>\n",
       "      <td>2.2</td>\n",
       "      <td>2000</td>\n",
       "      <td>-17.6</td>\n",
       "      <td>0</td>\n",
       "      <td>0</td>\n",
       "      <td>0</td>\n",
       "      <td>No Holiday</td>\n",
       "      <td>0</td>\n",
       "      <td>0</td>\n",
       "      <td>0</td>\n",
       "      <td>1</td>\n",
       "    </tr>\n",
       "    <tr>\n",
       "      <th>1</th>\n",
       "      <td>01/12/2017</td>\n",
       "      <td>204</td>\n",
       "      <td>1</td>\n",
       "      <td>-5.5</td>\n",
       "      <td>38.0</td>\n",
       "      <td>0.8</td>\n",
       "      <td>2000</td>\n",
       "      <td>-17.6</td>\n",
       "      <td>0</td>\n",
       "      <td>0</td>\n",
       "      <td>0</td>\n",
       "      <td>No Holiday</td>\n",
       "      <td>0</td>\n",
       "      <td>0</td>\n",
       "      <td>0</td>\n",
       "      <td>1</td>\n",
       "    </tr>\n",
       "    <tr>\n",
       "      <th>2</th>\n",
       "      <td>01/12/2017</td>\n",
       "      <td>173</td>\n",
       "      <td>2</td>\n",
       "      <td>-6.0</td>\n",
       "      <td>39.0</td>\n",
       "      <td>1.0</td>\n",
       "      <td>2000</td>\n",
       "      <td>-17.7</td>\n",
       "      <td>0</td>\n",
       "      <td>0</td>\n",
       "      <td>0</td>\n",
       "      <td>No Holiday</td>\n",
       "      <td>0</td>\n",
       "      <td>0</td>\n",
       "      <td>0</td>\n",
       "      <td>1</td>\n",
       "    </tr>\n",
       "    <tr>\n",
       "      <th>3</th>\n",
       "      <td>01/12/2017</td>\n",
       "      <td>107</td>\n",
       "      <td>3</td>\n",
       "      <td>-6.2</td>\n",
       "      <td>40.0</td>\n",
       "      <td>0.9</td>\n",
       "      <td>2000</td>\n",
       "      <td>-17.6</td>\n",
       "      <td>0</td>\n",
       "      <td>0</td>\n",
       "      <td>0</td>\n",
       "      <td>No Holiday</td>\n",
       "      <td>0</td>\n",
       "      <td>0</td>\n",
       "      <td>0</td>\n",
       "      <td>1</td>\n",
       "    </tr>\n",
       "    <tr>\n",
       "      <th>4</th>\n",
       "      <td>01/12/2017</td>\n",
       "      <td>78</td>\n",
       "      <td>4</td>\n",
       "      <td>-6.0</td>\n",
       "      <td>36.0</td>\n",
       "      <td>2.3</td>\n",
       "      <td>2000</td>\n",
       "      <td>-18.6</td>\n",
       "      <td>0</td>\n",
       "      <td>0</td>\n",
       "      <td>0</td>\n",
       "      <td>No Holiday</td>\n",
       "      <td>0</td>\n",
       "      <td>0</td>\n",
       "      <td>0</td>\n",
       "      <td>1</td>\n",
       "    </tr>\n",
       "  </tbody>\n",
       "</table>\n",
       "</div>"
      ]
     },
     "execution_count": 14,
     "metadata": {},
     "output_type": "execute_result"
    }
   ],
   "execution_count": 14
  },
  {
   "metadata": {},
   "cell_type": "markdown",
   "source": "#### 1.2.3 Encoding Date to be a binary feature Weekday"
  },
  {
   "cell_type": "code",
   "metadata": {
    "ExecuteTime": {
     "end_time": "2024-06-22T07:56:31.895600Z",
     "start_time": "2024-06-22T07:56:31.857064Z"
    }
   },
   "source": [
    "#  Replace the Date feature with a binary Weekday feature (1 for a weekday and 0 for weekend) using the code sample below or your own code.\n",
    "df['Weekday'] = df['Date'].apply(date_is_weekday)\n",
    "df = df.drop('Date', axis=1)\n",
    "df.head()"
   ],
   "outputs": [
    {
     "data": {
      "text/plain": [
       "   Rented Bike Count  Hour  Temperature (C)  Humidity (%)  Wind speed (m/s)  \\\n",
       "0                254     0             -5.2          37.0               2.2   \n",
       "1                204     1             -5.5          38.0               0.8   \n",
       "2                173     2             -6.0          39.0               1.0   \n",
       "3                107     3             -6.2          40.0               0.9   \n",
       "4                 78     4             -6.0          36.0               2.3   \n",
       "\n",
       "   Visibility (10m)  Dew point temperature (C) Solar Radiation (MJ/m2)  \\\n",
       "0              2000                      -17.6                       0   \n",
       "1              2000                      -17.6                       0   \n",
       "2              2000                      -17.7                       0   \n",
       "3              2000                      -17.6                       0   \n",
       "4              2000                      -18.6                       0   \n",
       "\n",
       "  Rainfall(mm) Snowfall (cm)     Holiday  x0_Autumn  x0_Spring  x0_Summer  \\\n",
       "0            0             0  No Holiday          0          0          0   \n",
       "1            0             0  No Holiday          0          0          0   \n",
       "2            0             0  No Holiday          0          0          0   \n",
       "3            0             0  No Holiday          0          0          0   \n",
       "4            0             0  No Holiday          0          0          0   \n",
       "\n",
       "   x0_Winter  Weekday  \n",
       "0          1        1  \n",
       "1          1        1  \n",
       "2          1        1  \n",
       "3          1        1  \n",
       "4          1        1  "
      ],
      "text/html": [
       "<div>\n",
       "<style scoped>\n",
       "    .dataframe tbody tr th:only-of-type {\n",
       "        vertical-align: middle;\n",
       "    }\n",
       "\n",
       "    .dataframe tbody tr th {\n",
       "        vertical-align: top;\n",
       "    }\n",
       "\n",
       "    .dataframe thead th {\n",
       "        text-align: right;\n",
       "    }\n",
       "</style>\n",
       "<table border=\"1\" class=\"dataframe\">\n",
       "  <thead>\n",
       "    <tr style=\"text-align: right;\">\n",
       "      <th></th>\n",
       "      <th>Rented Bike Count</th>\n",
       "      <th>Hour</th>\n",
       "      <th>Temperature (C)</th>\n",
       "      <th>Humidity (%)</th>\n",
       "      <th>Wind speed (m/s)</th>\n",
       "      <th>Visibility (10m)</th>\n",
       "      <th>Dew point temperature (C)</th>\n",
       "      <th>Solar Radiation (MJ/m2)</th>\n",
       "      <th>Rainfall(mm)</th>\n",
       "      <th>Snowfall (cm)</th>\n",
       "      <th>Holiday</th>\n",
       "      <th>x0_Autumn</th>\n",
       "      <th>x0_Spring</th>\n",
       "      <th>x0_Summer</th>\n",
       "      <th>x0_Winter</th>\n",
       "      <th>Weekday</th>\n",
       "    </tr>\n",
       "  </thead>\n",
       "  <tbody>\n",
       "    <tr>\n",
       "      <th>0</th>\n",
       "      <td>254</td>\n",
       "      <td>0</td>\n",
       "      <td>-5.2</td>\n",
       "      <td>37.0</td>\n",
       "      <td>2.2</td>\n",
       "      <td>2000</td>\n",
       "      <td>-17.6</td>\n",
       "      <td>0</td>\n",
       "      <td>0</td>\n",
       "      <td>0</td>\n",
       "      <td>No Holiday</td>\n",
       "      <td>0</td>\n",
       "      <td>0</td>\n",
       "      <td>0</td>\n",
       "      <td>1</td>\n",
       "      <td>1</td>\n",
       "    </tr>\n",
       "    <tr>\n",
       "      <th>1</th>\n",
       "      <td>204</td>\n",
       "      <td>1</td>\n",
       "      <td>-5.5</td>\n",
       "      <td>38.0</td>\n",
       "      <td>0.8</td>\n",
       "      <td>2000</td>\n",
       "      <td>-17.6</td>\n",
       "      <td>0</td>\n",
       "      <td>0</td>\n",
       "      <td>0</td>\n",
       "      <td>No Holiday</td>\n",
       "      <td>0</td>\n",
       "      <td>0</td>\n",
       "      <td>0</td>\n",
       "      <td>1</td>\n",
       "      <td>1</td>\n",
       "    </tr>\n",
       "    <tr>\n",
       "      <th>2</th>\n",
       "      <td>173</td>\n",
       "      <td>2</td>\n",
       "      <td>-6.0</td>\n",
       "      <td>39.0</td>\n",
       "      <td>1.0</td>\n",
       "      <td>2000</td>\n",
       "      <td>-17.7</td>\n",
       "      <td>0</td>\n",
       "      <td>0</td>\n",
       "      <td>0</td>\n",
       "      <td>No Holiday</td>\n",
       "      <td>0</td>\n",
       "      <td>0</td>\n",
       "      <td>0</td>\n",
       "      <td>1</td>\n",
       "      <td>1</td>\n",
       "    </tr>\n",
       "    <tr>\n",
       "      <th>3</th>\n",
       "      <td>107</td>\n",
       "      <td>3</td>\n",
       "      <td>-6.2</td>\n",
       "      <td>40.0</td>\n",
       "      <td>0.9</td>\n",
       "      <td>2000</td>\n",
       "      <td>-17.6</td>\n",
       "      <td>0</td>\n",
       "      <td>0</td>\n",
       "      <td>0</td>\n",
       "      <td>No Holiday</td>\n",
       "      <td>0</td>\n",
       "      <td>0</td>\n",
       "      <td>0</td>\n",
       "      <td>1</td>\n",
       "      <td>1</td>\n",
       "    </tr>\n",
       "    <tr>\n",
       "      <th>4</th>\n",
       "      <td>78</td>\n",
       "      <td>4</td>\n",
       "      <td>-6.0</td>\n",
       "      <td>36.0</td>\n",
       "      <td>2.3</td>\n",
       "      <td>2000</td>\n",
       "      <td>-18.6</td>\n",
       "      <td>0</td>\n",
       "      <td>0</td>\n",
       "      <td>0</td>\n",
       "      <td>No Holiday</td>\n",
       "      <td>0</td>\n",
       "      <td>0</td>\n",
       "      <td>0</td>\n",
       "      <td>1</td>\n",
       "      <td>1</td>\n",
       "    </tr>\n",
       "  </tbody>\n",
       "</table>\n",
       "</div>"
      ]
     },
     "execution_count": 15,
     "metadata": {},
     "output_type": "execute_result"
    }
   ],
   "execution_count": 15
  },
  {
   "metadata": {},
   "cell_type": "markdown",
   "source": "#### 1.2.4 Convert the remaining non-numeric features to numeric and replace with NaN when appropriate"
  },
  {
   "cell_type": "code",
   "metadata": {
    "ExecuteTime": {
     "end_time": "2024-06-22T08:10:55.185503Z",
     "start_time": "2024-06-22T08:10:55.179296Z"
    }
   },
   "source": [
    "# Convert remaining non-numerical features to a numerical format or replace with NaN (i.e. `np.nan`) where not possible\n",
    "# Recall the numerical features treated as object\n",
    "to_numerical = [feature for feature in cat_features if '(' in feature]\n",
    "df[to_numerical] = df[to_numerical].apply(lambda x: pd.to_numeric(x, errors='coerce'))\n",
    "num_features = num_features.union(set(to_numerical))\n",
    "cat_features = cat_features.difference(set(to_numerical))"
   ],
   "outputs": [],
   "execution_count": 28
  },
  {
   "metadata": {},
   "cell_type": "markdown",
   "source": "#### 1.2.5 Identify and fix the outliers"
  },
  {
   "metadata": {},
   "cell_type": "markdown",
   "source": "To identify outliers - we will inspect each feature and see which values are 'impossible' first in the sense that these values are physically impossible (which most likely indicates some data entry error). The next step will to remove outliers that in the statistical sense."
  },
  {
   "metadata": {
    "ExecuteTime": {
     "end_time": "2024-06-22T08:12:22.299728Z",
     "start_time": "2024-06-22T08:12:22.291925Z"
    }
   },
   "cell_type": "code",
   "source": "df.info()",
   "outputs": [
    {
     "name": "stdout",
     "output_type": "stream",
     "text": [
      "<class 'pandas.core.frame.DataFrame'>\n",
      "RangeIndex: 8465 entries, 0 to 8464\n",
      "Data columns (total 16 columns):\n",
      " #   Column                     Non-Null Count  Dtype  \n",
      "---  ------                     --------------  -----  \n",
      " 0   Rented Bike Count          8465 non-null   int64  \n",
      " 1   Hour                       8465 non-null   int64  \n",
      " 2   Temperature (C)            8465 non-null   float64\n",
      " 3   Humidity (%)               8465 non-null   float64\n",
      " 4   Wind speed (m/s)           8465 non-null   float64\n",
      " 5   Visibility (10m)           8465 non-null   int64  \n",
      " 6   Dew point temperature (C)  8465 non-null   float64\n",
      " 7   Solar Radiation (MJ/m2)    8464 non-null   float64\n",
      " 8   Rainfall(mm)               8444 non-null   float64\n",
      " 9   Snowfall (cm)              8444 non-null   float64\n",
      " 10  Holiday                    8465 non-null   object \n",
      " 11  x0_Autumn                  8465 non-null   int64  \n",
      " 12  x0_Spring                  8465 non-null   int64  \n",
      " 13  x0_Summer                  8465 non-null   int64  \n",
      " 14  x0_Winter                  8465 non-null   int64  \n",
      " 15  Weekday                    8465 non-null   int64  \n",
      "dtypes: float64(7), int64(8), object(1)\n",
      "memory usage: 1.0+ MB\n"
     ]
    }
   ],
   "execution_count": 34
  },
  {
   "metadata": {},
   "cell_type": "markdown",
   "source": "##### 1.2.5.1 Hour"
  },
  {
   "metadata": {
    "ExecuteTime": {
     "end_time": "2024-06-22T17:19:00.178245Z",
     "start_time": "2024-06-22T17:18:59.954476Z"
    }
   },
   "cell_type": "code",
   "source": [
    "ax = df[\"Hour\"].hist(bins=24)\n",
    "plt.title(\"Histogram of Hours\")"
   ],
   "outputs": [
    {
     "data": {
      "text/plain": [
       "Text(0.5, 1.0, 'Histogram of Hours')"
      ]
     },
     "execution_count": 61,
     "metadata": {},
     "output_type": "execute_result"
    },
    {
     "data": {
      "text/plain": [
       "<Figure size 640x480 with 1 Axes>"
      ],
      "image/png": "[encoded data removed]"
     },
     "metadata": {},
     "output_type": "display_data"
    }
   ],
   "execution_count": 61
  },
  {
   "metadata": {},
   "cell_type": "markdown",
   "source": "We can observe that the distribution of Hours of the transactions are uniformly distributed (where the domain of values is the hour of the day [from 0 to 23])."
  },
  {
   "metadata": {},
   "cell_type": "markdown",
   "source": "##### 1.2.5.2 Temperature"
  },
  {
   "metadata": {
    "ExecuteTime": {
     "end_time": "2024-06-22T17:23:11.945442Z",
     "start_time": "2024-06-22T17:23:11.763948Z"
    }
   },
   "cell_type": "code",
   "source": "sns.violinplot(data=df, x=\"Temperature (C)\")",
   "outputs": [
    {
     "data": {
      "text/plain": [
       "<Axes: xlabel='Temperature (C)'>"
      ]
     },
     "execution_count": 68,
     "metadata": {},
     "output_type": "execute_result"
    },
    {
     "data": {
      "text/plain": [
       "<Figure size 640x480 with 1 Axes>"
      ],
      "image/png": "[encoded data removed]"
     },
     "metadata": {},
     "output_type": "display_data"
    }
   ],
   "execution_count": 68
  },
  {
   "metadata": {},
   "cell_type": "markdown",
   "source": "We see that the temperature has a significant outlier outside the majority of the distribution. Inspecting the sorted data we can view this count."
  },
  {
   "metadata": {
    "ExecuteTime": {
     "end_time": "2024-06-22T17:26:36.802723Z",
     "start_time": "2024-06-22T17:26:36.795385Z"
    }
   },
   "cell_type": "code",
   "source": "df['Temperature (C)'].value_counts().sort_index(ascending=False)",
   "outputs": [
    {
     "data": {
      "text/plain": [
       "Temperature (C)\n",
       " 195.0    1\n",
       " 186.0    1\n",
       " 181.0    1\n",
       " 42.0     1\n",
       " 39.4     1\n",
       "         ..\n",
       "-16.5     1\n",
       "-16.9     1\n",
       "-17.4     1\n",
       "-17.5     2\n",
       "-17.8     1\n",
       "Name: count, Length: 550, dtype: int64"
      ]
     },
     "execution_count": 72,
     "metadata": {},
     "output_type": "execute_result"
    }
   ],
   "execution_count": 72
  },
  {
   "metadata": {},
   "cell_type": "markdown",
   "source": "To clean this data, we will remove all values above 100 degrees Celsius. The data is corroborated from the [weather historical data](https://en.wikipedia.org/wiki/Climate_of_Seoul)."
  },
  {
   "metadata": {
    "ExecuteTime": {
     "end_time": "2024-06-22T17:31:39.405725Z",
     "start_time": "2024-06-22T17:31:39.401013Z"
    }
   },
   "cell_type": "code",
   "source": "df = df[df[\"Temperature (C)\"] < 100]",
   "outputs": [],
   "execution_count": 74
  },
  {
   "metadata": {},
   "cell_type": "markdown",
   "source": "We can now inspect the data, and see if it makes \"realistic sense\"."
  },
  {
   "metadata": {
    "ExecuteTime": {
     "end_time": "2024-06-22T17:32:45.352681Z",
     "start_time": "2024-06-22T17:32:45.103441Z"
    }
   },
   "cell_type": "code",
   "source": "sns.violinplot(data=df, x=\"Temperature (C)\")",
   "outputs": [
    {
     "data": {
      "text/plain": [
       "<Axes: xlabel='Temperature (C)'>"
      ]
     },
     "execution_count": 75,
     "metadata": {},
     "output_type": "execute_result"
    },
    {
     "data": {
      "text/plain": [
       "<Figure size 640x480 with 1 Axes>"
      ],
      "image/png": "[encoded data removed]"
     },
     "metadata": {},
     "output_type": "display_data"
    }
   ],
   "execution_count": 75
  },
  {
   "metadata": {},
   "cell_type": "markdown",
   "source": "##### 1.2.5.3"
  },
  {
   "cell_type": "markdown",
   "metadata": {},
   "source": "## Step 2: Pre-process the data and perform the first fit (20%)"
  },
  {
   "cell_type": "markdown",
   "metadata": {},
   "source": [
    "### 2.1 Imputation and Pre-Processing\n",
    "\n",
    "Make sure that you have set any problematic values in the numerical data to `np.nan` and then write code for a **sklearn *pipeline* that will perform imputation** to replace problematic entries (nan values) with an appropriate **median** value ***and* do any other pre-processing** that you think should be used."
   ]
  },
  {
   "cell_type": "code",
   "metadata": {
    "ExecuteTime": {
     "end_time": "2024-06-17T08:31:54.581148Z",
     "start_time": "2024-06-17T08:31:54.574633Z"
    }
   },
   "source": [
    "### Your code here\n"
   ],
   "outputs": [],
   "execution_count": 19
  },
  {
   "cell_type": "markdown",
   "metadata": {},
   "source": [
    "### 2.2 Predicting bike rentals\n",
    "\n",
    "A regression approach will be used for this problem: that is, \"bike rentals\" will be treated as a real number whose value will be predicted. If necessary, it could be rounded to the nearest integer afterwards, but this will not be necessary here. The root mean squared error (RMSE) metric will be used to quantify performance.  \n",
    "\n",
    "**Split the data** appropriately so that 20% of it will be kept as a hold-out test set. **Using the pipeline** you wrote above, pre-process and fit a ***linear regression* model** to the data in an appropriate way. After this, **calculate and print the RMSE of the fit to the training data**. \n",
    "\n",
    "To act as a simple baseline for comparison purposes, **also calculate and print the RMSE** that you would get if _all_ the predictions were set to be the **mean of the training targets** (i.e. bike rentals)."
   ]
  },
  {
   "cell_type": "code",
   "metadata": {},
   "source": [
    "### Your code and outputs here\n"
   ],
   "outputs": [],
   "execution_count": 20
  },
  {
   "cell_type": "markdown",
   "metadata": {},
   "source": [
    "## Step 3: Hyper-parameter optimisation (30%)\n",
    "\n",
    "**Use ChatGPT** (along with any modifications that you require) to create and run code (using sklearn pipelines) that will do the following:\n",
    " - fit a **linear regression** and a **Support Vector Regression** method to the data using **10-fold cross validation** for each model\n",
    " - display the **mean and standard deviation** of the **RMSE values** for each model (at baseline) in the _appropriate datasets_\n",
    " - perform a **hyper-parameter optimisation** on each model using **GridSearch**\n",
    " - display the **mean and standard deviation** of the **RMSE values** for each model (after optimisation) in the _appropriate datasets_\n",
    " - choose the **best model** and **visualise the results** with a single graphic of your choice\n",
    "\n",
    "**Display the ChatGPT prompt** and the **code**, _including any fixes_ that you needed to make to get the code to work, along with the **outputs** obtained by running the code.\n"
   ]
  },
  {
   "cell_type": "code",
   "metadata": {},
   "source": [
    "### Your ChatGPT prompt\n"
   ],
   "outputs": [],
   "execution_count": 21
  },
  {
   "cell_type": "code",
   "metadata": {},
   "source": [
    "### Code here (with outputs)\n"
   ],
   "outputs": [],
   "execution_count": 22
  },
  {
   "cell_type": "markdown",
   "metadata": {
    "tags": []
   },
   "source": [
    "## Step 4: Further improvements (10%)\n",
    "\n",
    "Consider the code that you obtained from ChatGPT above and find one error, or one thing that could be improved, or one reasonable alternative (even if it might not necessarily lead to an improvement).  **Describe this error/improvement/alternative in the box below.**"
   ]
  },
  {
   "cell_type": "code",
   "metadata": {
    "ExecuteTime": {
     "end_time": "2024-06-17T08:31:54.642552Z",
     "start_time": "2024-06-17T08:31:54.634716Z"
    }
   },
   "source": [
    "### Your answer here (maximum of 200 words)\n"
   ],
   "outputs": [],
   "execution_count": 23
  }
 ],
 "metadata": {
  "kernelspec": {
   "display_name": "Python 3 (ipykernel)",
   "language": "python",
   "name": "python3"
  },
  "language_info": {
   "codemirror_mode": {
    "name": "ipython",
    "version": 3
   },
   "file_extension": ".py",
   "mimetype": "text/x-python",
   "name": "python",
   "nbconvert_exporter": "python",
   "pygments_lexer": "ipython3",
   "version": "3.1.undefined"
  }
 },
 "nbformat": 4,
 "nbformat_minor": 4
}
