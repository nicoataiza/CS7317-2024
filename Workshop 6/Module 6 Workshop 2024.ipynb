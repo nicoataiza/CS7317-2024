{
  "cells": [
    {
      "cell_type": "markdown",
      "metadata": {
        "id": "4_X6HMlzmP7o"
      },
      "source": [
        "# Using Machine Learning Tools: Workshop 6\n",
        "\n",
        "The aim of this week's workshop is to understand and evaluate the training process of models, in particular stochastic gradient descent, learning curves, and convergence.\n",
        "\n",
        "You will use [Wisconsin Breast Cancer data set](https://scikit-learn.org/stable/datasets/toy_dataset.html#breast-cancer-dataset), which is included in scikit learn (follow the link and read about what the dataset is)\n",
        "\n",
        "Note: the link on webpage to the dataset is 'dead'. However, you can load the data directly using the below (as used in the below code):\n",
        "\n",
        "`from sklearn.datasets import load_breast_cancer`\n",
        "\n",
        "`data = load_breast_cancer()`\n",
        "\n"
      ]
    },
    {
      "cell_type": "markdown",
      "metadata": {
        "id": "iygThofQnRL9"
      },
      "source": [
        "# Setup and loading data\n",
        "\n",
        "Use the cells below to setup the notebook and load in data."
      ]
    },
    {
      "cell_type": "code",
      "execution_count": 1,
      "metadata": {
        "id": "9ZMcuJjsmP7p"
      },
      "outputs": [],
      "source": [
        "# Python ≥3.5 is required\n",
        "import sys\n",
        "assert sys.version_info >= (3, 5)\n",
        "\n",
        "# Scikit-Learn ≥0.20 is required\n",
        "import sklearn\n",
        "assert sklearn.__version__ >= \"0.20\"\n",
        "\n",
        "# Common imports\n",
        "import numpy as np\n",
        "import os\n",
        "\n",
        "# To plot pretty figures\n",
        "%matplotlib inline\n",
        "import matplotlib as mpl\n",
        "import matplotlib.pyplot as plt\n",
        "mpl.rc('axes', labelsize=14)\n",
        "mpl.rc('xtick', labelsize=12)\n",
        "mpl.rc('ytick', labelsize=12)\n",
        "\n",
        "# To plot even prettier figures\n",
        "import seaborn as sn\n",
        "\n",
        "# General data handling (pure numerics are better in numpy)\n",
        "import pandas as pd"
      ]
    },
    {
      "cell_type": "code",
      "execution_count": 2,
      "metadata": {
        "id": "wvGxBTSZmP7q"
      },
      "outputs": [],
      "source": [
        "from sklearn.datasets import load_breast_cancer\n",
        "data = load_breast_cancer()"
      ]
    },
    {
      "cell_type": "code",
      "execution_count": 3,
      "metadata": {
        "id": "e3dyhRISmP7q",
        "outputId": "bed8a6d8-af50-4799-eba4-512d36b0f0e7"
      },
      "outputs": [
        {
          "name": "stdout",
          "output_type": "stream",
          "text": [
            "(569, 30)\n",
            "(569,)\n",
            "(569, 31)\n"
          ]
        }
      ],
      "source": [
        "xarray = data.data\n",
        "yarray = data.target\n",
        "print(xarray.shape)\n",
        "print(yarray.shape)\n",
        "fullarray = np.concatenate((xarray,np.reshape(yarray,(-1,1))),axis=1)\n",
        "print(fullarray.shape)"
      ]
    },
    {
      "cell_type": "code",
      "execution_count": 4,
      "metadata": {
        "id": "KNn8BRfzmP7r"
      },
      "outputs": [],
      "source": [
        "fullarray[:,-1] = 1 - fullarray[:,-1]   # now invert the labels (so that malignant=1)\n",
        "df = pd.DataFrame(fullarray,columns = list(data.feature_names) + ['target'])"
      ]
    },
    {
      "cell_type": "markdown",
      "metadata": {
        "id": "SUJIk0KPmP7r"
      },
      "source": [
        "# Splitting into separate datasets\n",
        "\n",
        "Fill in the necessary sections so that the ratio for train:validation:test is 60:20:20 (think about how to do this in the two steps provided below).\n"
      ]
    },
    {
      "cell_type": "code",
      "execution_count": 7,
      "metadata": {
        "id": "voYIvAY4mP7r"
      },
      "outputs": [],
      "source": [
        "from sklearn.model_selection import train_test_split\n",
        "\n",
        "bigtrain_set, test_set = train_test_split(fullarray, test_size= 0.20, random_state=42, stratify=fullarray[:,-1])\n",
        "train_set, val_set =train_test_split(bigtrain_set, test_size=0.25, random_state=42, stratify=bigtrain_set[:,-1])"
      ]
    },
    {
      "cell_type": "markdown",
      "metadata": {
        "id": "gJ4TLLmQmP7r"
      },
      "source": [
        "### **Hint:** here we want to try and use the *stratify* option, which splits the sets whilst trying to keep the same proportions of the classification labels in each (hence it needs to know the labels). This is an important option to use in most classification tasks (and it can also be used for regression if you divide the data into discrete sets just for stratifying, such as small, medium, large values)."
      ]
    },
    {
      "cell_type": "markdown",
      "metadata": {
        "id": "VQkitUB7mP7s"
      },
      "source": [
        "# Pipeline and SGD classifier\n",
        "\n",
        "After this, a pre-processing pipeline is built and then a function called `sgdfn` is defined. This function creates an SGD classifier and calls it, one epoch at a time, from within a loop using the partial_fit method.  The SGD classifier needs to use the `warm_start=True` option in order to enable the partial_fit method to work in this way. (Note that an epoch is one pass through all the training data, whereas an iteration is one pass through a batch of training data. A batch is a smaller subset of the training data, although in our case they are the same as we are not splitting this small dataset into smaller batches, since we don’t need to.)\n",
        "\n",
        "It is necessary to fit the pre-processing to the training set and then transform the training and validation datasets. You will need to fill in the appropriate calls to do this.\n",
        "\n",
        "Within the loop the predict function is called on the validation data and then accuracy and loss (hinge_loss) are calculated. Fill in the necessary code for these steps.\n",
        "\n",
        "After the loop the accuracy and loss are plotted, and these are the learning curves."
      ]
    },
    {
      "cell_type": "code",
      "execution_count": 28,
      "metadata": {
        "id": "9D610q6EmP7s"
      },
      "outputs": [],
      "source": [
        "from sklearn.pipeline import Pipeline\n",
        "from sklearn.preprocessing import StandardScaler\n",
        "from sklearn.impute import SimpleImputer\n",
        "\n",
        "preproc_pl = Pipeline([\n",
        "    ('imputer', SimpleImputer()),\n",
        "    ('scaler', StandardScaler())\n",
        "])"
      ]
    },
    {
      "cell_type": "code",
      "execution_count": 33,
      "metadata": {
        "id": "AR2Y9q4mmP7s"
      },
      "outputs": [],
      "source": [
        "# You will need to have modified this to allow more options to be passed into the initialisation of the sgd\n",
        "# In the code below you will see some of the options that I've passed in, but you are free to choose your own\n",
        "\n",
        "from sklearn.linear_model import SGDClassifier\n",
        "from sklearn.metrics import accuracy_score, hinge_loss\n",
        "X_train, y_train = train_set[:,:-1], train_set[:,-1]\n",
        "X_val, y_val = val_set[:,:-1], val_set[:,-1]\n",
        "\n",
        "def sgdfn(nsamp, learnrate, *args):\n",
        "    sgd = SGDClassifier(warm_start=True, learning_rate='constant', eta0=learnrate)\n",
        "    preproc_pl.fit(X_train)\n",
        "    X_trainp = preproc_pl.transform(X_train)\n",
        "    X_valp = preproc_pl.transform(X_val)\n",
        "    res=[]\n",
        "\n",
        "    for n in range(1000):\n",
        "        sgd.partial_fit(X_trainp[:nsamp],y_train[:nsamp],classes=[0,1])\n",
        "        y_val_pred = sgd.predict(X_valp)\n",
        "        sgd_acc = accuracy_score(y_val,y_val_pred)\n",
        "        sgd_loss = hinge_loss(y_val, y_val_pred)\n",
        "        res += [[sgd_acc,sgd_loss]]\n",
        "\n",
        "    res = np.array(res)\n",
        "\n",
        "    plt.figure(figsize=(10,4))\n",
        "    plt.subplot(121)\n",
        "    plt.plot(res[:,0])\n",
        "    plt.title('Accuracy')\n",
        "    plt.xlabel('Epoch')\n",
        "    plt.subplot(122)\n",
        "    plt.plot(res[:,1])\n",
        "    plt.title('Loss')\n",
        "    plt.xlabel('Epoch')\n",
        "    plt.show()\n",
        "\n",
        "    return [res[-1,0],res[-1,1]]"
      ]
    },
    {
      "cell_type": "markdown",
      "metadata": {
        "id": "_HMmj2KQmP7s"
      },
      "source": [
        "## Part 1: Initial fitting\n",
        "\n",
        "Call the function with nsamp set to the maximum value for your training set and learnrate set to 1e-5.\n",
        "\n",
        "An example output is shown below."
      ]
    },
    {
      "cell_type": "code",
      "execution_count": 34,
      "metadata": {},
      "outputs": [
        {
          "data": {
            "image/png": "[encoded data removed]",
            "text/plain": [
              "<Figure size 1000x400 with 2 Axes>"
            ]
          },
          "metadata": {},
          "output_type": "display_data"
        },
        {
          "data": {
            "text/plain": [
              "[0.9824561403508771, 0.6403508771929824]"
            ]
          },
          "execution_count": 34,
          "metadata": {},
          "output_type": "execute_result"
        }
      ],
      "source": [
        "ntrain = X_train.shape[0]\n",
        "sgdfn(ntrain,1e-5, preproc_pl)"
      ]
    },
    {
      "cell_type": "code",
      "execution_count": 35,
      "metadata": {
        "id": "6VxMjO7UmP7s",
        "outputId": "0d01ae09-f30c-497d-ede6-caa8b5e6a3a1"
      },
      "outputs": [
        {
          "data": {
            "image/png": "[encoded data removed]",
            "text/plain": [
              "<Figure size 1000x400 with 2 Axes>"
            ]
          },
          "metadata": {},
          "output_type": "display_data"
        },
        {
          "data": {
            "text/plain": [
              "[0.9824561403508771, 0.6403508771929824]"
            ]
          },
          "execution_count": 35,
          "metadata": {},
          "output_type": "execute_result"
        }
      ],
      "source": [
        "ntrain = X_train.shape[0]\n",
        "sgdfn(ntrain,1e-5)"
      ]
    },
    {
      "cell_type": "code",
      "execution_count": 36,
      "metadata": {
        "id": "jF_MaYwbpdPk"
      },
      "outputs": [
        {
          "data": {
            "image/png": "[encoded data removed]",
            "text/plain": [
              "<Figure size 1000x400 with 2 Axes>"
            ]
          },
          "metadata": {},
          "output_type": "display_data"
        },
        {
          "data": {
            "text/plain": [
              "[0.9824561403508771, 0.6403508771929824]"
            ]
          },
          "execution_count": 36,
          "metadata": {},
          "output_type": "execute_result"
        }
      ],
      "source": [
        "# We can try different sample size\n",
        "ntrain = int(X_train.shape[0]*0.8)\n",
        "# Implement our function\n",
        "sgdfn(ntrain,0.00001)"
      ]
    },
    {
      "cell_type": "markdown",
      "metadata": {
        "id": "CCH98m12mP7t"
      },
      "source": [
        "## Part 2: Exploring different learning rates\n",
        "\n",
        "Explore the effect of different learning rates, trying to find the point where the learning rate is too low for it to learn and also the rate where it is too high and becomes unstable.  \n",
        "\n",
        "**Hint:** you will need to explore a large range of values over many orders of magnitude."
      ]
    },
    {
      "cell_type": "code",
      "execution_count": null,
      "metadata": {
        "id": "BMiMEzY3mP7t",
        "tags": []
      },
      "outputs": [],
      "source": [
        "res=[]\n",
        "for lr_exp in range(???):\n",
        "    lr = ???\n",
        "    print(f'Learning rate = {lr}')\n",
        "    res += sgdfn(ntrain,lr)\n",
        "print(res)"
      ]
    },
    {
      "cell_type": "markdown",
      "metadata": {
        "id": "h7AUlo5jmP7t"
      },
      "source": [
        "### **Take home message:** get used to seeing what things look like when the learning rate is too small or too large. Unstable results like the ones at the end sometimes produce models that are OK, but almost always the models could be better if the learning rate was better suited to them."
      ]
    },
    {
      "cell_type": "markdown",
      "metadata": {
        "id": "kc9-jPjumP7t"
      },
      "source": [
        "## Part 3: Effect of number of samples on learning rate\n",
        "\n",
        "Explore the effect that different training set sizes (via nsamp) has on the learning curves.  How does the training set size effect the limits of the learning rate - that is, the values when the learning rate becomes too low or too high?  Keep a record of the values for several training set sizes and summarize your findings as a plot or a table."
      ]
    },
    {
      "cell_type": "code",
      "execution_count": null,
      "metadata": {
        "id": "oEy5mpqFmP7t",
        "tags": []
      },
      "outputs": [],
      "source": [
        "res=[]\n",
        "for nsamp in range(???):\n",
        "    ???"
      ]
    },
    {
      "cell_type": "code",
      "execution_count": null,
      "metadata": {
        "id": "gqgfYjormP7t",
        "tags": []
      },
      "outputs": [],
      "source": [
        "for lr_exp in np.arange(???):\n",
        "    ???"
      ]
    },
    {
      "cell_type": "markdown",
      "metadata": {
        "id": "k0GFAEBnmP7t"
      },
      "source": [
        "### **Take home message:** there is a relatively narrow zone sometimes of learning rates between too slow and too unstable. This also depends on the data (and the task) so learning rates need to be appropriately tuned for each problem."
      ]
    },
    {
      "cell_type": "markdown",
      "metadata": {
        "id": "6zA6DYvqmP7t"
      },
      "source": [
        "## Part 4: Learning rate options\n",
        "\n",
        "Using nsamp=100, find what you consider is the best learning rate.  Then compare this to what happens when you set learning_rate=‘optimal’ instead.  Do this by taking another argument in your function.  Show the learning curves in each case.  Can you do better than the ‘optimal’ setting?"
      ]
    },
    {
      "cell_type": "code",
      "execution_count": null,
      "metadata": {
        "id": "pgckKkROmP7t",
        "tags": []
      },
      "outputs": [],
      "source": [
        "# An example of how to set the learning rate to optimal\n",
        "sgdfn(ntrain,1e-5,learntype='optimal',loop=False)"
      ]
    },
    {
      "cell_type": "code",
      "execution_count": null,
      "metadata": {
        "id": "E2LqJ2O8mP7u"
      },
      "outputs": [],
      "source": [
        "# You can also set the early stoppinf criteria\n",
        "sgdfn(ntrain, 1e-5, learntype='constant', loop=False, early_stopping=True, verbose=0, tol=???, n_iter_no_change=???)"
      ]
    },
    {
      "cell_type": "code",
      "execution_count": null,
      "metadata": {
        "id": "NfRHr6GcmP7u"
      },
      "outputs": [],
      "source": [
        "# Now try and could some other options"
      ]
    },
    {
      "cell_type": "markdown",
      "metadata": {
        "id": "N8nB3eyRmP7u"
      },
      "source": [
        "### **Take home message:** the 'optimal' methods may or may not do better than simpler ones. Don't assume that the latest method or the method with the most impressive name/maths will do the best. Try a range of different things whenever possible. And remember that many of these things are stochastic, so if you ran it again, you'll get a different result (a lot of the time). However, also consider how much time or computational resources you have, as the later versions need far fewer epochs/iterations (in this case it is pretty trivial, but for very big datasets and very big models, such as in deep learning, the computational time can be a big issue to consider)."
      ]
    },
    {
      "cell_type": "markdown",
      "metadata": {
        "id": "jWJ5YCA_mP7u"
      },
      "source": [
        "## Part 5: Regularisation (plus the early stopping extension)\n",
        "\n",
        "To have a basic idea about regularisation, you can download the additional `regularisation.ipynb` notebook on MyUni.\n",
        "\n",
        "After that, follor with the next activities:\n",
        "Instead of using the function above, create your own pipeline including an SGDClassifier and use this to fit to training data and predict validation data.  Calculate the performance metrics (accuracy and loss) for this, but as it is a single call you cannot get a learning curve from this.  Record your results as these will be a baseline for the next experiments.\n",
        "\n",
        "The SGDClassifier incorporates L2 regularisation by default.  It can be controlled by the parameter alpha. Try varying this over many orders to magnitude until you find a value that causes a noticeable change in the results.\n",
        "Make a plot of the accuracy versus alpha value.\n",
        "\n",
        "The type of regularisation used is controlled by the penalty parameter.  Look at the available options and try the others, making a similar plot for each of them.\n",
        "\n",
        "Some example outputs are shown below.\n",
        "\n",
        "**Question:** What do you think is the best setting for regularisation?"
      ]
    },
    {
      "cell_type": "code",
      "execution_count": null,
      "metadata": {
        "id": "votgz4WOmP7u",
        "outputId": "baefc811-c066-488b-d01f-abd35e1c2e1b"
      },
      "outputs": [
        {
          "name": "stdout",
          "output_type": "stream",
          "text": [
            "Alpha = 1e-08\n",
            "Number of epochs/iterations performed was 6\n",
            "Alpha = 1e-07\n",
            "Number of epochs/iterations performed was 6\n",
            "Alpha = 1e-06\n",
            "Number of epochs/iterations performed was 6\n",
            "Alpha = 1e-05\n",
            "Number of epochs/iterations performed was 6\n",
            "Alpha = 0.0001\n",
            "Number of epochs/iterations performed was 6\n",
            "Alpha = 0.001\n",
            "Number of epochs/iterations performed was 6\n",
            "Alpha = 0.01\n",
            "Number of epochs/iterations performed was 6\n",
            "Alpha = 0.1\n",
            "Number of epochs/iterations performed was 6\n",
            "Alpha = 1.0\n",
            "Number of epochs/iterations performed was 6\n",
            "Alpha = 10.0\n",
            "Number of epochs/iterations performed was 6\n",
            "Alpha = 100.0\n",
            "Number of epochs/iterations performed was 6\n",
            "Alpha = 1000.0\n",
            "Number of epochs/iterations performed was 6\n",
            "Alpha = 10000.0\n",
            "Number of epochs/iterations performed was 6\n",
            "Alpha = 100000.0\n",
            "Number of epochs/iterations performed was 6\n",
            "Alpha = 1000000.0\n",
            "Number of epochs/iterations performed was 6\n",
            "Alpha = 10000000.0\n",
            "Number of epochs/iterations performed was 6\n",
            "Alpha = 1e-08\n",
            "Number of epochs/iterations performed was 6\n",
            "Alpha = 1e-07\n",
            "Number of epochs/iterations performed was 6\n",
            "Alpha = 1e-06\n",
            "Number of epochs/iterations performed was 6\n",
            "Alpha = 1e-05\n",
            "Number of epochs/iterations performed was 6\n",
            "Alpha = 0.0001\n",
            "Number of epochs/iterations performed was 6\n",
            "Alpha = 0.001\n",
            "Number of epochs/iterations performed was 6\n",
            "Alpha = 0.01\n",
            "Number of epochs/iterations performed was 6\n",
            "Alpha = 0.1\n",
            "Number of epochs/iterations performed was 6\n",
            "Alpha = 1.0\n",
            "Number of epochs/iterations performed was 6\n",
            "Alpha = 10.0\n",
            "Number of epochs/iterations performed was 6\n",
            "Alpha = 100.0\n",
            "Number of epochs/iterations performed was 6\n",
            "Alpha = 1000.0\n",
            "Number of epochs/iterations performed was 6\n",
            "Alpha = 10000.0\n",
            "Number of epochs/iterations performed was 6\n",
            "Alpha = 100000.0\n",
            "Number of epochs/iterations performed was 6\n",
            "Alpha = 1000000.0\n",
            "Number of epochs/iterations performed was 6\n",
            "Alpha = 10000000.0\n",
            "Number of epochs/iterations performed was 6\n",
            "Alpha = 1e-08\n",
            "Number of epochs/iterations performed was 6\n",
            "Alpha = 1e-07\n",
            "Number of epochs/iterations performed was 6\n",
            "Alpha = 1e-06\n",
            "Number of epochs/iterations performed was 6\n",
            "Alpha = 1e-05\n",
            "Number of epochs/iterations performed was 6\n",
            "Alpha = 0.0001\n",
            "Number of epochs/iterations performed was 6\n",
            "Alpha = 0.001\n",
            "Number of epochs/iterations performed was 6\n",
            "Alpha = 0.01\n",
            "Number of epochs/iterations performed was 6\n",
            "Alpha = 0.1\n",
            "Number of epochs/iterations performed was 6\n",
            "Alpha = 1.0\n",
            "Number of epochs/iterations performed was 6\n",
            "Alpha = 10.0\n",
            "Number of epochs/iterations performed was 6\n",
            "Alpha = 100.0\n",
            "Number of epochs/iterations performed was 6\n",
            "Alpha = 1000.0\n",
            "Number of epochs/iterations performed was 6\n",
            "Alpha = 10000.0\n",
            "Number of epochs/iterations performed was 6\n",
            "Alpha = 100000.0\n",
            "Number of epochs/iterations performed was 6\n",
            "Alpha = 1000000.0\n",
            "Number of epochs/iterations performed was 6\n",
            "Alpha = 10000000.0\n",
            "Number of epochs/iterations performed was 6\n"
          ]
        },
        {
          "data": {
            "image/png": "[encoded data removed]",
            "text/plain": [
              "<Figure size 432x288 with 1 Axes>"
            ]
          },
          "metadata": {
            "needs_background": "light"
          },
          "output_type": "display_data"
        }
      ],
      "source": [
        "for pen in ['l2','l1','elasticnet']:\n",
        "    ???\n",
        "plt.title(f'Learning curves for different regularisation penalty types')\n",
        "plt.ylabel('Accuracy')\n",
        "plt.xlabel('Alpha')\n",
        "plt.legend(['l2','l1','elasticnet'])\n",
        "plt.show()"
      ]
    },
    {
      "cell_type": "markdown",
      "metadata": {
        "id": "_9SXvhpGmP7u"
      },
      "source": [
        "### **Take home message:** these are *many orders of magnitude* different from one another in terms of their effect on the same dataset. So whenever you are investigating parameters for this, or other things, remember that you should try a very wide range of values to make sure that you are seeing the full effect. In this case regularisation isn't really needed, but too much lowers the performance, which is typical."
      ]
    },
    {
      "cell_type": "markdown",
      "metadata": {
        "id": "S5mrKvqNmP7u"
      },
      "source": [
        "## Part 6: Model comparison and test evaluation\n",
        "\n",
        "Model Comparison:\n",
        "We complete the standard workflow as usual - choose what you think are the best settings for all of the above parameters.\n",
        "\n",
        "Question: Which of the above parameters (i.e. learning rate, type of learning method or regularisation) has the biggest effect on final performance?\n",
        "\n",
        "Measure the performance of this method on the current validation set.\n",
        "\n",
        "Re-train the method on the combined set of training and validation data.\n",
        "Measure the performance of this on the test set.\n",
        "\n",
        "**Question:** How does this performance compare?  What did you expect?"
      ]
    },
    {
      "cell_type": "code",
      "execution_count": null,
      "metadata": {
        "id": "Jysl68ypmP7u",
        "outputId": "7fe4a3f1-38d8-49f2-e379-62cd987c4067"
      },
      "outputs": [
        {
          "name": "stdout",
          "output_type": "stream",
          "text": [
            "Validation and Test accuracies are: 0.9473684210526315 and 0.956140350877193\n"
          ]
        }
      ],
      "source": [
        "sgd = SGDClassifier(learning_rate='constant', eta0=1e-5,\n",
        "                        early_stopping=False,\n",
        "                        validation_fraction=0.1, penalty='l2')\n",
        "sgd_pipe = Pipeline([('preproc',preproc_pl),('sgd',sgd)])\n",
        "\n",
        "sgd_pipe.fit(X_train,y_train)\n",
        "y_val_pred = sgd_pipe.predict(X_val)\n",
        "val_acc = accuracy_score(y_val, y_val_pred)\n",
        "\n",
        "sgd_pipe.fit(np.concatenate((X_train,X_val),axis=0),np.concatenate((y_train,y_val),axis=0))\n",
        "y_test_pred = sgd_pipe.predict(X_test)\n",
        "test_acc = accuracy_score(y_test, y_test_pred)\n",
        "\n",
        "print(f'Validation and Test accuracies are: {val_acc} and {test_acc}')"
      ]
    },
    {
      "cell_type": "markdown",
      "metadata": {
        "id": "GJtrgkMnmP7v"
      },
      "source": [
        "### **Take home message:** although the validation accuracy is, on average, biased by the selection process the random element of sample selection often means that it is hard to know if the test accuracy will be more or less than the validation accuracy, but it should normally be similar. If it is very different then you either have a lot of random variation (often due to sample sizes being too small) or you have a bigger problem in the code or in the selection of the samples."
      ]
    }
  ],
  "metadata": {
    "colab": {
      "provenance": []
    },
    "kernelspec": {
      "display_name": "Python 3 (ipykernel)",
      "language": "python",
      "name": "python3"
    },
    "language_info": {
      "codemirror_mode": {
        "name": "ipython",
        "version": 3
      },
      "file_extension": ".py",
      "mimetype": "text/x-python",
      "name": "python",
      "nbconvert_exporter": "python",
      "pygments_lexer": "ipython3",
      "version": "3.12.3"
    }
  },
  "nbformat": 4,
  "nbformat_minor": 0
}
